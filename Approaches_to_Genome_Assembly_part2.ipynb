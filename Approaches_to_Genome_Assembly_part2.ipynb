{
  "cells": [
    {
      "cell_type": "markdown",
      "metadata": {
        "id": "uP-2eqPezxu0"
      },
      "source": [
        "# Genome Assembly 2\n",
        "**Assembling Complex Genomes: Short Reads vs. Long Reads**\n",
        "\n",
        "\n",
        "Xanthomonas genomes are known for their complexity, characterized by numerous repeat elements and TAL effectors with highly repetitive sequences. These features pose significant challenges for genome assembly, requiring careful consideration of the sequencing technology and assembly methods used.\n",
        "\n",
        "In this section, we will first assemble a Xanthomonas bacterial genome using Illumina short-read sequences. Short reads often struggle with repetitive regions, which can lead to fragmented assemblies. To address this, we will then perform a long-read assembly, which has the potential to resolve these repetitive elements more effectively.\n",
        "\n",
        "By comparing the strengths and weaknesses of these two sequencing methods, we aim to evaluate their performance in assembling the challenging Xanthomonas genome."
      ]
    },
    {
      "cell_type": "markdown",
      "metadata": {
        "id": "fJFd42KAI05h"
      },
      "source": [
        "##Install dependencies and tools##"
      ]
    },
    {
      "cell_type": "markdown",
      "metadata": {
        "id": "F0RENNdYXmsf"
      },
      "source": [
        "**Install miniconda**"
      ]
    },
    {
      "cell_type": "code",
      "execution_count": null,
      "metadata": {
        "collapsed": true,
        "id": "9pFbiFxUZcyw"
      },
      "outputs": [],
      "source": [
        "# @title\n",
        "!wget https://repo.anaconda.com/miniconda/Miniconda3-latest-Linux-x86_64.sh\n",
        "!chmod +x Miniconda3-latest-Linux-x86_64.sh\n",
        "!bash ./Miniconda3-latest-Linux-x86_64.sh -b -f -p /usr/local\n",
        "import sys\n",
        "sys.path.append('/usr/local/lib/python3.7/site-packages/')\n",
        "!conda config --add channels defaults\n",
        "!conda config --add channels bioconda\n",
        "!conda config --add channels conda-forge"
      ]
    },
    {
      "cell_type": "markdown",
      "metadata": {
        "id": "aiWdS0l0Xstq"
      },
      "source": [
        "**Install fastqc, trim_galore, spades, Nanoplot, filtlong, and checkM**"
      ]
    },
    {
      "cell_type": "code",
      "execution_count": null,
      "metadata": {
        "collapsed": true,
        "id": "cPd0j71jpqRD"
      },
      "outputs": [],
      "source": [
        "# @title\n",
        "!conda install bioconda::fastqc -y\n",
        "!!conda install trim-galore -y\n",
        "!conda install -c conda-forge ncbi-datasets-cli -y\n",
        "!conda install bioconda::spades -y\n",
        "!conda install bioconda::nanoplot -y\n",
        "!conda install -c bioconda filtlong -y\n",
        "!conda install bioconda::flye -y\n",
        "!conda install -c bioconda quast -y\n",
        "!conda install bioconda::pysradb -y"
      ]
    },
    {
      "cell_type": "markdown",
      "metadata": {
        "id": "O5-3upT6TeJY"
      },
      "source": [
        "# Short reads assembly"
      ]
    },
    {
      "cell_type": "markdown",
      "metadata": {
        "id": "iM7X-2JkTZlo"
      },
      "source": [
        "Fetch illumina sequences and Run spades"
      ]
    },
    {
      "cell_type": "code",
      "execution_count": null,
      "metadata": {
        "id": "3-7EMZY6zwYT"
      },
      "outputs": [],
      "source": [
        "!pysradb search --title \"Xanthomonas oryzae pv. oryzae\""
      ]
    },
    {
      "cell_type": "code",
      "execution_count": null,
      "metadata": {
        "id": "bjbELG1rTkwz"
      },
      "outputs": [],
      "source": [
        "!wget https://zenodo.org/record/14018699/files/SRR30576374_1.fastq.gz\n",
        "!wget https://zenodo.org/record/14018699/files/SRR30576374_2.fastq.gz"
      ]
    },
    {
      "cell_type": "markdown",
      "metadata": {
        "id": "dlvv573mQ8ZN"
      },
      "source": [
        "Run quality control for the illumina reads"
      ]
    },
    {
      "cell_type": "code",
      "execution_count": null,
      "metadata": {
        "id": "E7RJp-0V7h4E"
      },
      "outputs": [],
      "source": [
        "!fastqc SRR30576374_1.fastq.gz\n",
        "!fastqc SRR30576374_2.fastq.gz"
      ]
    },
    {
      "cell_type": "markdown",
      "metadata": {
        "id": "I8IbH3RlRQ33"
      },
      "source": [
        "**Filter and Clip Sequences**\n",
        "\n",
        "Filter and trim sequences based on a Phred score greater than 20, removing adapters and considering nucleotide composition."
      ]
    },
    {
      "cell_type": "code",
      "execution_count": null,
      "metadata": {
        "id": "3MNxWWtc85Bo"
      },
      "outputs": [],
      "source": [
        "!trim_galore --paired --clip_R1 15 --clip_R2 15 --three_prime_clip_R1 10 --three_prime_clip_R2 10 --fastqc SRR30576374_1.fastq.gz SRR30576374_2.fastq.gz"
      ]
    },
    {
      "cell_type": "markdown",
      "metadata": {
        "id": "oaVXF8UASTro"
      },
      "source": [
        "**Run the Illumina assembler SPAdes using the --isolate option. This option is designed for cases where the reads originate from a single, pure isolate..**"
      ]
    },
    {
      "cell_type": "code",
      "execution_count": null,
      "metadata": {
        "id": "8FU6KKicTZCA"
      },
      "outputs": [],
      "source": [
        "!spades.py --isolate -1 SRR30576374_1_val_1.fq.gz -2 SRR30576374_2_val_2.fq.gz -o spades_output"
      ]
    },
    {
      "cell_type": "markdown",
      "metadata": {
        "id": "A6STGooqSvRN"
      },
      "source": [
        "Your results are in spades_output. We will compare the results with long reads assembly"
      ]
    },
    {
      "cell_type": "markdown",
      "metadata": {
        "id": "oScd6thqTkUx"
      },
      "source": [
        "#Long Reads assembly"
      ]
    },
    {
      "cell_type": "markdown",
      "metadata": {
        "id": "aYgQOPHCR3_3"
      },
      "source": [
        "Fetch Pacbio HIFI sequences and run long read assembler - flye"
      ]
    },
    {
      "cell_type": "code",
      "execution_count": null,
      "metadata": {
        "id": "gvNkp2K-J2l-"
      },
      "outputs": [],
      "source": [
        "!wget https://zenodo.org/record/14018699/files/SRR30576370.fastq.gz"
      ]
    },
    {
      "cell_type": "markdown",
      "metadata": {
        "id": "7-_cuLBOSBRP"
      },
      "source": [
        "Run Quality Control for Long Reads\n",
        "\n",
        "NanoPlot is a tool designed for quality control of Oxford Nanopore long reads. However, it can also be adapted for use with PacBio HiFi long reads to perform simple QC analysis."
      ]
    },
    {
      "cell_type": "code",
      "execution_count": null,
      "metadata": {
        "id": "rIps5XE5N0mf"
      },
      "outputs": [],
      "source": [
        "!NanoPlot -fastq SRR30576370.fastq.gz -o nanoplot_output"
      ]
    },
    {
      "cell_type": "markdown",
      "metadata": {
        "id": "wLnGy6F1STJR"
      },
      "source": [
        "Filter reads shorter than 1 Kb"
      ]
    },
    {
      "cell_type": "code",
      "execution_count": null,
      "metadata": {
        "id": "cUDUDiSBOd-M"
      },
      "outputs": [],
      "source": [
        "!filtlong --min_length 1000 --keep_percent 90 SRR30576370.fastq.gz | gzip > filtered_SRR30576370.fastq.gz"
      ]
    },
    {
      "cell_type": "markdown",
      "metadata": {
        "id": "x2wuy2qNSYOS"
      },
      "source": [
        "Run QC again and check results"
      ]
    },
    {
      "cell_type": "code",
      "execution_count": null,
      "metadata": {
        "id": "i5Rowg8SPDIu"
      },
      "outputs": [],
      "source": [
        "!NanoPlot -fastq filtered_SRR30576370.fastq.gz -o filtered_nanoplot_output"
      ]
    },
    {
      "cell_type": "markdown",
      "metadata": {
        "id": "0XPI1cIlSblz"
      },
      "source": [
        "Run Long-Read Assembler - Flye\n",
        "\n",
        "Run the long-read assembler Flye using only a subset of reads that provide 50x coverage of the genome. This approach helps conserve computational resources. The coverage can be increased as needed based on specific requirements."
      ]
    },
    {
      "cell_type": "code",
      "execution_count": null,
      "metadata": {
        "id": "LnEhafyVKcmC"
      },
      "outputs": [],
      "source": [
        "!flye --asm-coverage 50 --pacbio-hifi filtered_SRR30576370.fastq.gz -o flye_results --genome-size 5000000"
      ]
    },
    {
      "cell_type": "markdown",
      "metadata": {
        "id": "trxJAeCnTo5H"
      },
      "source": [
        "#Assembly stats and comparisions"
      ]
    },
    {
      "cell_type": "markdown",
      "metadata": {
        "id": "iYayi7pKSvdc"
      },
      "source": [
        "Compare Both Assemblies Using quast\n",
        "\n",
        "Evaluate metrics such as the number of contigs, genome size, N50."
      ]
    },
    {
      "cell_type": "code",
      "execution_count": null,
      "metadata": {
        "id": "uhfI5jXJpDef"
      },
      "outputs": [],
      "source": [
        "!mkdir assemblies/\n",
        "!cp spades_output/contigs.fasta assemblies/spades_contigs.fasta\n",
        "!cp flye_results/assembly.fasta assemblies/flye_contigs.fasta\n",
        "!quast assemblies/spades_contigs.fasta assemblies/flye_contigs.fasta"
      ]
    }
  ],
  "metadata": {
    "colab": {
      "machine_shape": "hm",
      "provenance": []
    },
    "kernelspec": {
      "display_name": "Python 3",
      "name": "python3"
    },
    "language_info": {
      "name": "python"
    }
  },
  "nbformat": 4,
  "nbformat_minor": 0
}
