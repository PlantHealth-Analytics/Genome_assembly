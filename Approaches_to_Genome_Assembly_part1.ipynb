{
  "cells": [
    {
      "cell_type": "markdown",
      "metadata": {
        "id": "57X_DWEVeMD2"
      },
      "source": [
        "# Genome Assembly 1\n",
        "Guided Assembly vs. De Novo Assembly\n",
        "\n",
        "This notebook demonstrates various approaches to assembling genomes from raw reads. First, we’ll perform a guided assembly using recovered Illumina reads from a metagenomic study, specifically assembling begomovirus genomes. Second, we’ll conduct a de novo assembly without a reference."
      ]
    },
    {
      "cell_type": "markdown",
      "metadata": {
        "id": "fJFd42KAI05h"
      },
      "source": [
        "##Install dependencies and tools##"
      ]
    },
    {
      "cell_type": "markdown",
      "metadata": {
        "id": "F0RENNdYXmsf"
      },
      "source": [
        "**Install miniconda**"
      ]
    },
    {
      "cell_type": "code",
      "execution_count": 23,
      "metadata": {
        "collapsed": true,
        "id": "9pFbiFxUZcyw",
        "outputId": "5cfccd0a-2470-4106-d6ab-59d7af44de11",
        "colab": {
          "base_uri": "https://localhost:8080/"
        }
      },
      "outputs": [
        {
          "output_type": "stream",
          "name": "stdout",
          "text": [
            "--2024-12-11 18:47:09--  https://repo.anaconda.com/miniconda/Miniconda3-latest-Linux-x86_64.sh\n",
            "Resolving repo.anaconda.com (repo.anaconda.com)... 104.16.191.158, 104.16.32.241, 2606:4700::6810:20f1, ...\n",
            "Connecting to repo.anaconda.com (repo.anaconda.com)|104.16.191.158|:443... connected.\n",
            "HTTP request sent, awaiting response... 200 OK\n",
            "Length: 148337011 (141M) [application/octet-stream]\n",
            "Saving to: ‘Miniconda3-latest-Linux-x86_64.sh.2’\n",
            "\n",
            "Miniconda3-latest-L 100%[===================>] 141.46M  91.3MB/s    in 1.5s    \n",
            "\n",
            "2024-12-11 18:47:11 (91.3 MB/s) - ‘Miniconda3-latest-Linux-x86_64.sh.2’ saved [148337011/148337011]\n",
            "\n",
            "PREFIX=/usr/local\n",
            "Unpacking payload ...\n",
            "\n",
            "Installing base environment...\n",
            "\n",
            "Preparing transaction: ...working... done\n",
            "Executing transaction: ...working... done\n",
            "installation finished.\n",
            "WARNING:\n",
            "    You currently have a PYTHONPATH environment variable set. This may cause\n",
            "    unexpected behavior when running the Python interpreter in Miniconda3.\n",
            "    For best results, please verify that your PYTHONPATH only points to\n",
            "    directories of packages that are compatible with the Python interpreter\n",
            "    in Miniconda3: /usr/local\n",
            "Warning: 'defaults' already in 'channels' list, moving to the top\n",
            "Warning: 'bioconda' already in 'channels' list, moving to the top\n",
            "Warning: 'conda-forge' already in 'channels' list, moving to the top\n"
          ]
        }
      ],
      "source": [
        "# @title\n",
        "!wget https://repo.anaconda.com/miniconda/Miniconda3-latest-Linux-x86_64.sh\n",
        "!chmod +x Miniconda3-latest-Linux-x86_64.sh\n",
        "!bash ./Miniconda3-latest-Linux-x86_64.sh -b -f -p /usr/local\n",
        "import sys\n",
        "sys.path.append('/usr/local/lib/python3.7/site-packages/')\n",
        "!conda config --add channels defaults\n",
        "!conda config --add channels bioconda\n",
        "!conda config --add channels conda-forge"
      ]
    },
    {
      "cell_type": "markdown",
      "metadata": {
        "id": "aiWdS0l0Xstq"
      },
      "source": [
        "**Install fastqc, trim_galore, bowtie2, samtools, datasets, spades, pilon and quast**"
      ]
    },
    {
      "cell_type": "code",
      "execution_count": 24,
      "metadata": {
        "collapsed": true,
        "id": "cPd0j71jpqRD",
        "outputId": "c68c8267-6754-4816-ba08-3c616eecd9b9",
        "colab": {
          "base_uri": "https://localhost:8080/"
        }
      },
      "outputs": [
        {
          "output_type": "stream",
          "name": "stdout",
          "text": [
            "Channels:\n",
            " - conda-forge\n",
            " - bioconda\n",
            " - defaults\n",
            "Platform: linux-64\n",
            "Collecting package metadata (repodata.json): - \b\b\\ \b\b| \b\b/ \b\b- \b\b\\ \b\b| \b\b/ \b\b- \b\b\\ \b\b| \b\b/ \b\b- \b\b\\ \b\b| \b\b/ \b\b- \b\b\\ \b\b| \b\b/ \b\b- \b\b\\ \b\b| \b\b/ \b\b- \b\b\\ \b\b| \b\b/ \b\b- \b\b\\ \b\b| \b\b/ \b\b- \b\b\\ \b\b| \b\b/ \b\b- \b\b\\ \b\b| \b\b/ \b\b- \b\b\\ \b\b| \b\b/ \b\b- \b\b\\ \b\b| \b\b/ \b\b- \b\b\\ \b\b| \b\b/ \b\b- \b\b\\ \b\b| \b\b/ \b\b- \b\b\\ \b\b| \b\b/ \b\bdone\n",
            "Solving environment: \\ \b\b| \b\b/ \b\b- \b\b\\ \b\bdone\n",
            "\n",
            "## Package Plan ##\n",
            "\n",
            "  environment location: /usr/local\n",
            "\n",
            "  added / updated specs:\n",
            "    - bioconda::fastqc\n",
            "\n",
            "\n",
            "The following packages will be UPDATED:\n",
            "\n",
            "  conda              pkgs/main::conda-24.9.2-py312h06a4308~ --> conda-forge::conda-24.11.0-py312h7900ff3_0 \n",
            "  openssl              pkgs/main::openssl-3.0.15-h5eee18b_0 --> conda-forge::openssl-3.4.0-hb9d3cd8_0 \n",
            "\n",
            "The following packages will be SUPERSEDED by a higher-priority channel:\n",
            "\n",
            "  certifi            pkgs/main/linux-64::certifi-2024.8.30~ --> conda-forge/noarch::certifi-2024.8.30-pyhd8ed1ab_0 \n",
            "\n",
            "\n",
            "\n",
            "Downloading and Extracting Packages:\n",
            "\n",
            "Preparing transaction: / \b\bdone\n",
            "Verifying transaction: \\ \b\b| \b\bdone\n",
            "Executing transaction: - \b\b\\ \b\b| \b\b/ \b\b- \b\b\\ \b\b| \b\b/ \b\b- \b\b\\ \b\b| \b\b/ \b\b- \b\b\\ \b\b| \b\b/ \b\b- \b\b\\ \b\b| \b\b/ \b\b- \b\b\\ \b\b| \b\b/ \b\b- \b\b\\ \b\b| \b\b/ \b\bdone\n",
            "Channels:\n",
            " - conda-forge\n",
            " - bioconda\n",
            " - defaults\n",
            "Platform: linux-64\n",
            "Collecting package metadata (repodata.json): - \b\b\\ \b\b| \b\b/ \b\b- \b\b\\ \b\b| \b\b/ \b\b- \b\b\\ \b\b| \b\b/ \b\bdone\n",
            "Solving environment: \\ \b\b| \b\b/ \b\b- \b\b\\ \b\b| \b\b/ \b\b- \b\b\\ \b\bdone\n",
            "\n",
            "# All requested packages already installed.\n",
            "\n",
            "Channels:\n",
            " - conda-forge\n",
            " - bioconda\n",
            " - defaults\n",
            "Platform: linux-64\n",
            "Collecting package metadata (repodata.json): - \b\b\\ \b\b| \b\b/ \b\b- \b\b\\ \b\b| \b\b/ \b\b- \b\b\\ \b\b| \b\b/ \b\b- \b\bdone\n",
            "Solving environment: | \b\b/ \b\b- \b\b\\ \b\b| \b\b/ \b\b- \b\b\\ \b\b| \b\bdone\n",
            "\n",
            "## Package Plan ##\n",
            "\n",
            "  environment location: /usr/local\n",
            "\n",
            "  added / updated specs:\n",
            "    - bioconda::samtools\n",
            "\n",
            "\n",
            "The following packages will be UPDATED:\n",
            "\n",
            "  libgcc-ng          pkgs/main::libgcc-ng-11.2.0-h1234567_1 --> conda-forge::libgcc-ng-14.2.0-h69a702a_1 \n",
            "  ncurses                 pkgs/main::ncurses-6.4-h6a678d5_0 --> conda-forge::ncurses-6.5-he02047a_1 \n",
            "\n",
            "\n",
            "\n",
            "Downloading and Extracting Packages:\n",
            "\n",
            "Preparing transaction: - \b\b\\ \b\bdone\n",
            "Verifying transaction: / \b\b- \b\b\\ \b\b| \b\b/ \b\b- \b\b\\ \b\b| \b\bdone\n",
            "Executing transaction: - \b\b\\ \b\b| \b\b/ \b\b- \b\b\\ \b\bdone\n",
            "Channels:\n",
            " - conda-forge\n",
            " - bioconda\n",
            " - defaults\n",
            "Platform: linux-64\n",
            "Collecting package metadata (repodata.json): - \b\b\\ \b\b| \b\b/ \b\b- \b\b\\ \b\b| \b\b/ \b\b- \b\b\\ \b\b| \b\b/ \b\b- \b\b\\ \b\b| \b\b/ \b\bdone\n",
            "Solving environment: \\ \b\b| \b\b/ \b\b- \b\b\\ \b\b| \b\b/ \b\b- \b\b\\ \b\bdone\n",
            "\n",
            "# All requested packages already installed.\n",
            "\n",
            "Channels:\n",
            " - conda-forge\n",
            " - bioconda\n",
            " - defaults\n",
            "Platform: linux-64\n",
            "Collecting package metadata (repodata.json): - \b\b\\ \b\b| \b\b/ \b\b- \b\b\\ \b\b| \b\b/ \b\b- \b\b\\ \b\b| \b\b/ \b\b- \b\bdone\n",
            "Solving environment: | \b\b/ \b\b- \b\b\\ \b\b| \b\b/ \b\b- \b\b\\ \b\bdone\n",
            "\n",
            "## Package Plan ##\n",
            "\n",
            "  environment location: /usr/local\n",
            "\n",
            "  added / updated specs:\n",
            "    - bioconda::spades\n",
            "\n",
            "\n",
            "The following packages will be UPDATED:\n",
            "\n",
            "  libstdcxx-ng       pkgs/main::libstdcxx-ng-11.2.0-h12345~ --> conda-forge::libstdcxx-ng-14.2.0-h4852527_1 \n",
            "\n",
            "\n",
            "\n",
            "Downloading and Extracting Packages:\n",
            "\n",
            "Preparing transaction: - \b\bdone\n",
            "Verifying transaction: | \b\bdone\n",
            "Executing transaction: - \b\bdone\n",
            "Channels:\n",
            " - conda-forge\n",
            " - bioconda\n",
            " - defaults\n",
            "Platform: linux-64\n",
            "Collecting package metadata (repodata.json): - \b\b\\ \b\b| \b\b/ \b\b- \b\b\\ \b\b| \b\b/ \b\b- \b\b\\ \b\b| \b\b/ \b\b- \b\bdone\n",
            "Solving environment: | \b\b/ \b\b- \b\b\\ \b\b| \b\b/ \b\b- \b\b\\ \b\bdone\n",
            "\n",
            "# All requested packages already installed.\n",
            "\n"
          ]
        }
      ],
      "source": [
        "# @title\n",
        "!conda install bioconda::fastqc -y\n",
        "!!conda install trim-galore -y\n",
        "!conda install bioconda::bwa -y\n",
        "!conda install bioconda::samtools -y\n",
        "!conda install -c conda-forge ncbi-datasets-cli -y\n",
        "!conda install bioconda::spades -y\n",
        "!conda install bioconda::pilon -y\n",
        "!conda install bioconda::quast -y"
      ]
    },
    {
      "cell_type": "markdown",
      "metadata": {
        "id": "_G4NMF9bW_WY"
      },
      "source": [
        "# Assisted Assembly Using a Reference\n",
        "Perform a guided assembly using recovered Illumina reads from a metagenomic study, focusing specifically on assembling begomovirus genomes.\n",
        "\n",
        "The FASTQ files contain the reads classified as begomovirus. We will focus exclusively on these reads for our analysis.\""
      ]
    },
    {
      "cell_type": "code",
      "execution_count": null,
      "metadata": {
        "id": "pvoae7IdGoBE"
      },
      "outputs": [],
      "source": [
        "!wget https://raw.githubusercontent.com/PlantHealth-Analytics/Genome_assembly/main/field_1.fastq\n",
        "!wget https://raw.githubusercontent.com/PlantHealth-Analytics/Genome_assembly/main/field_2.fastq"
      ]
    },
    {
      "cell_type": "markdown",
      "metadata": {
        "id": "43mMgsczM9Ez"
      },
      "source": [
        "**Run Fastqc for quality control**"
      ]
    },
    {
      "cell_type": "code",
      "execution_count": null,
      "metadata": {
        "collapsed": true,
        "id": "lVaONPTaMISX"
      },
      "outputs": [],
      "source": [
        "!fastqc *.fastq"
      ]
    },
    {
      "cell_type": "markdown",
      "metadata": {
        "id": "xqs6YIgUVS-u"
      },
      "source": [
        "**Check results**\n",
        "Write in the blan space the name of the file the .html extension. Disply in full screen. and then esc to come back to the notebook"
      ]
    },
    {
      "cell_type": "code",
      "execution_count": null,
      "metadata": {
        "collapsed": true,
        "id": "Gn21PH5iOBXp"
      },
      "outputs": [],
      "source": [
        "import os\n",
        "from IPython.core.display import display, HTML\n",
        "\n",
        "# Ask the user for the file name they want to display\n",
        "file_name = input(\"Enter the name of the HTML file you want to display (include .html extension): \")\n",
        "\n",
        "# Check if the file exists\n",
        "if os.path.exists(file_name):\n",
        "    # Open and read the HTML file\n",
        "    with open(file_name, 'r') as file:\n",
        "        html_content = file.read()\n",
        "        display(HTML(html_content))  # Display the HTML content\n",
        "else:\n",
        "    print(f\"File '{file_name}' not found. Please ensure the file exists in the current directory.\")\n"
      ]
    },
    {
      "cell_type": "markdown",
      "metadata": {
        "id": "YstbUmdtXzi7"
      },
      "source": [
        "**Remove adapters and filter bad quality reads q > 20**\n",
        "\n",
        "trim-galore will do the job"
      ]
    },
    {
      "cell_type": "code",
      "execution_count": null,
      "metadata": {
        "collapsed": true,
        "id": "ouE53T41E-0b"
      },
      "outputs": [],
      "source": [
        "!trim_galore --paired field_1.fastq field_2.fastq --clip_R1 15 --clip_R2 15"
      ]
    },
    {
      "cell_type": "markdown",
      "metadata": {
        "id": "SGK8-G7RUC6m"
      },
      "source": [
        "**Run QC to the new validate reads. XXX_val_X.fq**"
      ]
    },
    {
      "cell_type": "code",
      "execution_count": null,
      "metadata": {
        "collapsed": true,
        "id": "bmYpVZaDT83A"
      },
      "outputs": [],
      "source": [
        "!fastqc *.fq"
      ]
    },
    {
      "cell_type": "markdown",
      "metadata": {
        "id": "ClxfznXkUSan"
      },
      "source": [
        "**Check the quality control results**"
      ]
    },
    {
      "cell_type": "code",
      "execution_count": null,
      "metadata": {
        "id": "mMXkMbQ5UYL-"
      },
      "outputs": [],
      "source": [
        "import os\n",
        "from IPython.core.display import display, HTML\n",
        "\n",
        "# Ask the user for the file name they want to display\n",
        "file_name = input(\"Enter the name of the HTML file you want to display (include .html extension): \")\n",
        "\n",
        "# Check if the file exists\n",
        "if os.path.exists(file_name):\n",
        "    # Open and read the HTML file\n",
        "    with open(file_name, 'r') as file:\n",
        "        html_content = file.read()\n",
        "        display(HTML(html_content))  # Display the HTML content\n",
        "else:\n",
        "    print(f\"File '{file_name}' not found. Please ensure the file exists in the current directory.\")"
      ]
    },
    {
      "cell_type": "markdown",
      "metadata": {
        "id": "D1qBtXIoJCIY"
      },
      "source": [
        "**Align the Reads to a Reference Genome to Conduct a Guided Assembly by Mappi**ng\n",
        "\n",
        "Check the available complete genomes in NCBI and download them to use as guide reference genomes.\n"
      ]
    },
    {
      "cell_type": "code",
      "execution_count": null,
      "metadata": {
        "collapsed": true,
        "id": "9uNZSUPQab2-"
      },
      "outputs": [],
      "source": [
        "!datasets summary genome taxon \"East African cassava mosaic virus\" --assembly-level complete \\\n",
        "--as-json-lines | dataformat tsv genome --fields accession,organism-name,annotinfo-name\n",
        "!datasets download genome accession GCF_000859785.1 --include gff3,rna,cds,protein,genome,seq-report\n",
        "!unzip ncbi_dataset.zip"
      ]
    },
    {
      "cell_type": "markdown",
      "metadata": {
        "id": "sHgzrA-mJ3sv"
      },
      "source": [
        "Copy the genome sequence in your current folder"
      ]
    },
    {
      "cell_type": "code",
      "execution_count": null,
      "metadata": {
        "id": "a3ApkI3LU3UN"
      },
      "outputs": [],
      "source": [
        "!cp ncbi_dataset/data/GCF_000859785.1/GCF_000859785.1_ViralMultiSegProj15177_genomic.fna ./"
      ]
    },
    {
      "cell_type": "markdown",
      "metadata": {
        "id": "idRuOZisZ8Bc"
      },
      "source": [
        "**Format the Reference Genome for Use as a Guide**"
      ]
    },
    {
      "cell_type": "code",
      "source": [
        "!bwa index GCF_000859785.1_ViralMultiSegProj15177_genomic.fna"
      ],
      "metadata": {
        "id": "oS0AS8mva6FU",
        "outputId": "54daf4bf-079f-45da-bd3c-b6f1fa3da0d0",
        "colab": {
          "base_uri": "https://localhost:8080/"
        }
      },
      "execution_count": 31,
      "outputs": [
        {
          "output_type": "stream",
          "name": "stdout",
          "text": [
            "[bwa_index] Pack FASTA... 0.00 sec\n",
            "[bwa_index] Construct BWT for the packed sequence...\n",
            "[bwa_index] 0.00 seconds elapse.\n",
            "[bwa_index] Update BWT... 0.00 sec\n",
            "[bwa_index] Pack forward-only FASTA... 0.00 sec\n",
            "[bwa_index] Construct SA from BWT and Occ... 0.00 sec\n",
            "[main] Version: 0.7.18-r1243-dirty\n",
            "[main] CMD: bwa index GCF_000859785.1_ViralMultiSegProj15177_genomic.fna\n",
            "[main] Real time: 0.040 sec; CPU: 0.010 sec\n"
          ]
        }
      ]
    },
    {
      "cell_type": "markdown",
      "metadata": {
        "id": "NySFDqUgaIWS"
      },
      "source": [
        "**Map the reads over the reference**\n",
        "\n",
        "Mapping results are in field_isolated.sam"
      ]
    },
    {
      "cell_type": "code",
      "source": [
        "!bwa mem GCF_000859785.1_ViralMultiSegProj15177_genomic.fna field_1_val_1.fq field_2_val_2.fq > field_isolated.sam"
      ],
      "metadata": {
        "id": "XP5qjS62bIkw"
      },
      "execution_count": null,
      "outputs": []
    },
    {
      "cell_type": "markdown",
      "metadata": {
        "id": "GCeno4XVtTgk"
      },
      "source": [
        "**Transform the results in sam format to bam format**\n",
        "\n",
        "These comands will transform field_isolated.sam in field_isolated.bam, a compacted version"
      ]
    },
    {
      "cell_type": "code",
      "execution_count": null,
      "metadata": {
        "id": "RHDEu6dctYNF"
      },
      "outputs": [],
      "source": [
        "!samtools view -bS field_isolated.sam > field_isolated.bam\n",
        "!samtools sort field_isolated.bam -o field_isolated.bam\n",
        "!samtools index field_isolated.bam"
      ]
    },
    {
      "cell_type": "markdown",
      "metadata": {
        "id": "org8v54btokB"
      },
      "source": [
        "**Create a consensus and produce and assembled molecule**\n",
        "\n",
        "The name of the assembled genome is field_isolated_consensus.fasta"
      ]
    },
    {
      "cell_type": "code",
      "execution_count": null,
      "metadata": {
        "collapsed": true,
        "id": "oA8XeehAtuiq"
      },
      "outputs": [],
      "source": [
        "#!pilon --help\n",
        "!pilon --genome GCF_000859785.1_ViralMultiSegProj15177_genomic.fna --frags field_isolated.bam --output field_isolated_consensus --vcf --changes"
      ]
    },
    {
      "cell_type": "markdown",
      "metadata": {
        "id": "ldzuSmMc1XA4"
      },
      "source": [
        "The generated results include an assembly of your reads based on the reference genome of the cassava virus obtained from NCBI. The number of corrections or polishing steps with Pilon could be important to investigate. Performing more than one iteration is recommended until no further changes are observed. For example, the code below assembles the reads based on the reference, creates the consensus, and runs Pilon two more times for additional polishing."
      ]
    },
    {
      "cell_type": "markdown",
      "metadata": {
        "id": "EPaww5d22FMa"
      },
      "source": [
        "Input the files"
      ]
    },
    {
      "cell_type": "code",
      "execution_count": null,
      "metadata": {
        "id": "M7h66E24JSkg"
      },
      "outputs": [],
      "source": [
        "# Request file names from the user\n",
        "REFERENCE = input(\"Enter the file name for the initial reference genome (e.g., initial_assembly.fasta): \")\n",
        "READS_R1 = input(\"Enter the file name for the first pair of reads (e.g., illumina_reads_R1.fastq): \")\n",
        "READS_R2 = input(\"Enter the file name for the second pair of reads (e.g., illumina_reads_R2.fastq): \")\n",
        "\n",
        "# Output prefix and other settings\n",
        "OUTPUT_PREFIX = \"polished_genome\"  # Prefix for output files\n",
        "THREADS = 2  # Number of threads for Bowtie2 and Samtools"
      ]
    },
    {
      "cell_type": "markdown",
      "metadata": {
        "id": "SvcTGtHH2HKe"
      },
      "source": [
        "Run the pipeline"
      ]
    },
    {
      "cell_type": "code",
      "execution_count": null,
      "metadata": {
        "id": "Fo7vZEgINRRG"
      },
      "outputs": [],
      "source": [
        "import os\n",
        "\n",
        "# Step 1: Initial Correction using the Original Reference\n",
        "print(\"Starting initial Pilon correction with the original reference\")\n",
        "\n",
        "# Index the original reference for Bowtie2\n",
        "!bwa index \"$REFERENCE\"\n",
        "\n",
        "# Align reads to the original reference\n",
        "!bwa mem \"$REFERENCE\" \"$READS_R1\" -2 \"$READS_R2\" > aligned_reads.sam\n",
        "\n",
        "# Convert SAM to sorted BAM and index it\n",
        "!samtools view -Sb aligned_reads.sam | samtools sort -@ {THREADS} -o sorted_reads.bam\n",
        "!samtools index sorted_reads.bam\n",
        "\n",
        "# Run Pilon with the sorted BAM file for the initial correction\n",
        "initial_output = f\"{OUTPUT_PREFIX}_initial\"\n",
        "!pilon --genome \"$REFERENCE\" --frags sorted_reads.bam --output \"$initial_output\" --changes\n",
        "\n",
        "# Set the first corrected reference for the looped corrections\n",
        "current_reference = f\"{initial_output}.fasta\"\n",
        "\n",
        "# Step 2: Looped Corrections Starting with First Corrected Output\n",
        "for i in range(1, 3):\n",
        "    print(f\"Starting Pilon iteration {i} with the corrected reference\")\n",
        "\n",
        "    # Index the current reference for Bowtie2\n",
        "    !bwa index \"$current_reference\"\n",
        "\n",
        "    # Align reads to the current reference\n",
        "    !bwa mem \"$current_reference\" \"$READS_R1\" \"$READS_R2\" > aligned_reads.sam\n",
        "\n",
        "    # Convert SAM to sorted BAM and index it\n",
        "    !samtools view -Sb aligned_reads.sam | samtools sort -@ {THREADS} -o sorted_reads.bam\n",
        "    !samtools index sorted_reads.bam\n",
        "\n",
        "    # Run Pilon with the sorted BAM file\n",
        "    pilon_output = f\"{OUTPUT_PREFIX}_iter_{i}\"\n",
        "    !pilon --genome \"$current_reference\" --frags sorted_reads.bam --output \"$pilon_output\" --changes\n",
        "\n",
        "    # Update the reference for the next iteration\n",
        "    current_reference = f\"{pilon_output}.fasta\"\n",
        "\n",
        "print(\"Pilon polishing complete after initial correction and 2 additional iterations.\")\n"
      ]
    },
    {
      "cell_type": "markdown",
      "metadata": {
        "id": "Jr5brkAYSD2t"
      },
      "source": [
        "#*De Novo* Assembly#\n",
        "De novo assembly pieces together DNA fragments to form contigs that represent an organism's chromosomes. This approach assembles a genome from scratch, without relying on a reference genome or prior knowledge of the DNA sequence.\n",
        "\n",
        "Let’s conduct a de novo assembly using SPAdes with the metagenome option."
      ]
    },
    {
      "cell_type": "markdown",
      "metadata": {
        "id": "w49BVss72oE6"
      },
      "source": [
        "Run the SPAdes assembler with the metagenome (--meta) option. We use the --meta option because the reads may still contain sequences from more than one isolate or multiple types of viruses. However, SPAdes offers other assembly options that you can explore depending on the characteristics of your data. For example:\n",
        "\n",
        "Standard SPAdes: Use for single-organism assemblies when contamination is minimal.\n",
        "\n",
        "Plasmid SPAdes (--plasmid): Optimized for plasmid assembly.\n",
        "Hybrid SPAdes (--trusted-contigs): Combines long-read and short-read data for improved assembly.\n",
        "RNA-Seq SPAdes (--isolate): This flag is highly recommended for high-coverage isolate and multi-cell Illumina data; improves the assembly quality and running time\n",
        "\n",
        "Feel free to experiment with these options to find the best fit for your dataset\n",
        "\n",
        "https://ablab.github.io/spades/"
      ]
    },
    {
      "cell_type": "code",
      "execution_count": null,
      "metadata": {
        "id": "E2Q_egjwMzFU"
      },
      "outputs": [],
      "source": [
        "!spades.py --meta -1 field_1_val_1.fq -2 field_2_val_2.fq -o field_meta_de_novo"
      ]
    },
    {
      "cell_type": "markdown",
      "metadata": {
        "id": "eY_I3xA8U6kK"
      },
      "source": [
        "The output of the assembly will be in the field_meta_de_novo_ folder. This folder contains several files, but you will need the contigs.fasta file. The assembly is located here.\n",
        "\n",
        "Assess the metrics of the assembly using QUAST."
      ]
    },
    {
      "cell_type": "code",
      "execution_count": null,
      "metadata": {
        "collapsed": true,
        "id": "fIc34AIDTuj_"
      },
      "outputs": [],
      "source": [
        "!quast field_meta_de_novo/contigs.fasta"
      ]
    },
    {
      "cell_type": "markdown",
      "metadata": {
        "id": "NNHUdcOwMXb8"
      },
      "source": [
        "Check the report. You will find the number of contigs. Two contigs are larger than 1 Kb. These are the assemble viral genome.  "
      ]
    },
    {
      "cell_type": "code",
      "execution_count": null,
      "metadata": {
        "id": "cF34_rYnMOLf"
      },
      "outputs": [],
      "source": [
        "!cat quast_results/latest/report.txt"
      ]
    },
    {
      "cell_type": "markdown",
      "metadata": {
        "id": "K6cXz_arWOAm"
      },
      "source": [
        "#Comparision of two type of approaches\n",
        "Comparing guided assembly with Pilon (using an existing reference to refine a new assembly) and de novo assembly (assembling a genome from scratch) brings both advantages and challenges. Let’s break down the pros and cons of each approach, as well as key post-analysis steps to consider for both.\n",
        "\n",
        "Advantages and Disadvantages\n",
        "1. Guided Assembly with Pilon (Reference-Guided)\n",
        "Advantages:\n",
        "Higher accuracy in correcting errors: Pilon leverages high-confidence reads (like Illumina) to polish assemblies, making it especially useful when using long-read assemblies (e.g., from Nanopore or PacBio) that may have higher base-calling errors.\n",
        "Consistency with known reference: Using a reference genome ensures that conserved regions align well with established knowledge, making it easier to identify variant regions or perform comparative analyses.\n",
        "Efficient for closely related species: When the target species is similar to the reference genome, reference-guided assembly can achieve high coverage with fewer ambiguities.\n",
        "Disadvantages:\n",
        "Bias towards the reference genome: Guided assembly may miss novel regions that are absent in the reference genome or over-represent reference biases, particularly in divergent regions.\n",
        "Limited structural rearrangement detection: Large structural variants or genome rearrangements may be overlooked if the reference genome is heavily relied upon, as it constrains the assembly to follow reference structure.\n",
        "2. De Novo Assembly\n",
        "Advantages:\n",
        "\n",
        "Discovery of novel sequences: De novo assembly can capture previously unknown or divergent regions that may not be present in any reference, which is critical for studying novel organisms or highly variable genomic regions.\n",
        "More flexible structure: It provides a comprehensive picture of the genome without bias toward any reference, allowing for detection of structural variants, unique regions, and species-specific features.\n",
        "Applicability to highly divergent species: When the target organism is distantly related to available references, de novo assembly avoids reference bias, allowing a more authentic genome reconstruction.\n",
        "Disadvantages:\n",
        "\n",
        "Higher computational and data demands: De novo assembly typically requires more computational resources and high-coverage sequencing data, especially for large genomes.\n",
        "Increased assembly errors in repetitive regions: Without a reference to guide repetitive regions, it can be difficult to resolve these areas accurately, leading to fragmented or misassembled contigs.\n",
        "Lower accuracy without polishing: De novo assemblies, especially those using long-read technologies, often require extensive polishing with high-confidence reads to achieve high accuracy.\n"
      ]
    },
    {
      "cell_type": "markdown",
      "metadata": {
        "id": "3Z-W6IVhWSz3"
      },
      "source": [
        "# \"Hybrid Pipeline for Viral Genome Assembly from Metagenomic Data: Integrating SPAdes and Pilon for Enhanced Accuracy\"\n",
        "\n",
        "Description:\n",
        "This pipeline provides a streamlined, hybrid approach for assembling viral genomes directly from metagenomic data. Initially, SPAdes is employed in metagenomic mode to construct the preliminary assembly, leveraging its capacity to handle complex, mixed microbial communities. Following assembly, the draft genome undergoes refinement with Pilon, using high-quality short reads to polish and correct sequencing errors."
      ]
    },
    {
      "cell_type": "code",
      "execution_count": null,
      "metadata": {
        "id": "18VaOLqoXkHM"
      },
      "outputs": [],
      "source": [
        "# Request file names from the user\n",
        "READS_R1 = input(\"Enter the file name for the first pair of reads (e.g., illumina_reads_R1.fastq): \")\n",
        "READS_R2 = input(\"Enter the file name for the second pair of reads (e.g., illumina_reads_R2.fastq): \")\n",
        "OUTPUT_PREFIX = \"polished_genome\"  # Prefix for output files\n",
        "THREADS = 2  # Number of threads for SPAdes and Samtools"
      ]
    },
    {
      "cell_type": "code",
      "execution_count": null,
      "metadata": {
        "collapsed": true,
        "id": "ufpjk6p2Xl22"
      },
      "outputs": [],
      "source": [
        "import os\n",
        "\n",
        "# Step 1: Run SPAdes Assembly\n",
        "print(\"Starting de novo assembly with SPAdes\")\n",
        "\n",
        "!spades.py --meta -1 \"$READS_R1\" -2 \"$READS_R2\" -o spades_output --threads $THREADS\n",
        "\n",
        "# Set the initial reference for Pilon as the SPAdes contigs output\n",
        "REFERENCE = \"spades_output/contigs.fasta\"\n",
        "\n",
        "\n",
        "# Step 1: Initial Correction using the Original Reference\n",
        "print(\"Starting initial Pilon correction with the original reference\")\n",
        "\n",
        "# Index the original reference for Bowtie2\n",
        "!bwa index \"$REFERENCE\"\n",
        "\n",
        "# Align reads to the original reference\n",
        "!bwa mem \"$REFERENCE\" \"$READS_R1\" \"$READS_R2\" > aligned_reads.sam\n",
        "\n",
        "# Convert SAM to sorted BAM and index it\n",
        "!samtools view -Sb aligned_reads.sam | samtools sort -@ {THREADS} -o sorted_reads.bam\n",
        "!samtools index sorted_reads.bam\n",
        "\n",
        "# Run Pilon with the sorted BAM file for the initial correction\n",
        "initial_output = f\"{OUTPUT_PREFIX}_initial\"\n",
        "!pilon --genome \"$REFERENCE\" --frags sorted_reads.bam --output \"$initial_output\" --changes\n",
        "\n",
        "# Set the first corrected reference for the looped corrections\n",
        "current_reference = f\"{initial_output}.fasta\"\n",
        "\n",
        "# Step 2: Looped Corrections Starting with First Corrected Output\n",
        "for i in range(1, 3):\n",
        "    print(f\"Starting Pilon iteration {i} with the corrected reference\")\n",
        "\n",
        "    # Index the current reference for Bowtie2\n",
        "    !bwa index \"$current_reference\"\n",
        "\n",
        "    # Align reads to the current reference\n",
        "    !bwa mem \"$current_reference\" \"$READS_R1\" \"$READS_R2\" > aligned_reads.sam\n",
        "\n",
        "    # Convert SAM to sorted BAM and index it\n",
        "    !samtools view -Sb aligned_reads.sam | samtools sort -@ {THREADS} -o sorted_reads.bam\n",
        "    !samtools index sorted_reads.bam\n",
        "\n",
        "    # Run Pilon with the sorted BAM file\n",
        "    pilon_output = f\"{OUTPUT_PREFIX}_iter_{i}\"\n",
        "    !pilon --genome \"$current_reference\" --frags sorted_reads.bam --output \"$pilon_output\" --changes\n",
        "\n",
        "    # Update the reference for the next iteration\n",
        "    current_reference = f\"{pilon_output}.fasta\"\n",
        "\n",
        "print(\"Pilon polishing complete after initial correction and 3 additional iterations.\")"
      ]
    },
    {
      "cell_type": "markdown",
      "metadata": {
        "id": "ro4nJP8RC771"
      },
      "source": [
        "You can run quast in the assembly results and compare"
      ]
    }
  ],
  "metadata": {
    "colab": {
      "provenance": []
    },
    "kernelspec": {
      "display_name": "Python 3",
      "name": "python3"
    }
  },
  "nbformat": 4,
  "nbformat_minor": 0
}